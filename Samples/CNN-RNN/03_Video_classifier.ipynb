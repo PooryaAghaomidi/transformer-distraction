{
 "cells": [
  {
   "cell_type": "markdown",
   "id": "deaafd35",
   "metadata": {},
   "source": [
    "## test"
   ]
  },
  {
   "cell_type": "code",
   "execution_count": null,
   "id": "9c383b35",
   "metadata": {},
   "outputs": [],
   "source": [
    "import tensorflow as tf\n",
    "import os\n",
    "\n",
    "os.environ[\"CUDA_VISIBLE_DEVICES\"] = \"0\"\n",
    "print(tf.__version__)\n",
    "print(tf.config.list_physical_devices('GPU'))\n",
    "#tf.config.run_functions_eagerly(True)\n",
    "#tf.config.experimental_run_functions_eagerly(True)"
   ]
  },
  {
   "cell_type": "markdown",
   "id": "390dae26",
   "metadata": {},
   "source": [
    "## import"
   ]
  },
  {
   "cell_type": "code",
   "execution_count": null,
   "id": "606e4c68",
   "metadata": {},
   "outputs": [],
   "source": [
    "import pandas as pd\n",
    "import numpy as np\n",
    "import matplotlib.pyplot as plt\n",
    "from sklearn.metrics import confusion_matrix, accuracy_score, classification_report\n",
    "from tensorflow.keras.callbacks import ModelCheckpoint, EarlyStopping\n",
    "from tensorflow.keras.models import load_model"
   ]
  },
  {
   "cell_type": "markdown",
   "id": "bf67dce0",
   "metadata": {},
   "source": [
    "## preparation"
   ]
  },
  {
   "cell_type": "code",
   "execution_count": null,
   "id": "89d75ffe",
   "metadata": {},
   "outputs": [],
   "source": [
    "network_name = 'inception lts not preprocessed'\n",
    "bs = 1\n",
    "epochs = 500\n",
    "ler = 0.0005"
   ]
  },
  {
   "cell_type": "code",
   "execution_count": null,
   "id": "0a32d8c1",
   "metadata": {},
   "outputs": [],
   "source": [
    "tr_df = pd.read_csv('I:/poorya/datasets/video dataset/' + network_name + '/train/tr_df.csv')\n",
    "vl_df = pd.read_csv('I:/poorya/datasets/video dataset/' + network_name + '/val/vl_df.csv')"
   ]
  },
  {
   "cell_type": "code",
   "execution_count": null,
   "id": "64b63627",
   "metadata": {},
   "outputs": [],
   "source": [
    "def datagen(folder, df):\n",
    "    i = 0\n",
    "    n = df['file name'].tolist()\n",
    "    l = df['stressor lable'].tolist()\n",
    "\n",
    "    while (True):\n",
    "        img = []\n",
    "        lbl = np.zeros((1, 2))\n",
    "        x = np.load('I:/poorya/datasets/video dataset/' + network_name + '/' + folder + n[i])\n",
    "        img.append((x - x.min()) / (x.max() - x.min()))\n",
    "        lbl[0, 0] = int(l[i][1])\n",
    "        lbl[0, 1] = int(l[i][4])\n",
    "\n",
    "        i += 1\n",
    "        if (i + 1 >= len(n)):\n",
    "            i = 0\n",
    "        yield np.array(img), lbl\n",
    "\n",
    "\n",
    "train_gen = datagen('train/', df = tr_df)\n",
    "val_gen = datagen('val/', df = vl_df)"
   ]
  },
  {
   "cell_type": "markdown",
   "id": "dd503149",
   "metadata": {},
   "source": [
    "## model"
   ]
  },
  {
   "cell_type": "code",
   "execution_count": null,
   "id": "053949cf",
   "metadata": {
    "scrolled": true
   },
   "outputs": [],
   "source": [
    "inputt = tf.keras.Input((40, 2048))\n",
    "x = tf.keras.layers.GRU(1024, return_sequences = True)(inputt)\n",
    "x = tf.keras.layers.GRU(1024)(x)\n",
    "x = tf.keras.layers.Dense(1024, activation = \"elu\")(x)\n",
    "x = tf.keras.layers.Dropout(0.2)(x)\n",
    "x = tf.keras.layers.Dense(1024, activation = \"elu\")(x)\n",
    "x = tf.keras.layers.Dropout(0.2)(x)\n",
    "x = tf.keras.layers.Dense(512, activation = \"elu\")(x)\n",
    "x = tf.keras.layers.Dropout(0.2)(x)\n",
    "output = tf.keras.layers.Dense(2, activation = \"softmax\")(x)\n",
    "\n",
    "rnn = tf.keras.Model(inputt, output)\n",
    "\n",
    "opt = tf.keras.optimizers.Adamax(learning_rate = ler, decay = 0.001, clipvalue = 0.5, epsilon = 1e-07)\n",
    "loss = tf.keras.losses.BinaryCrossentropy()\n",
    "\n",
    "rnn.compile(loss = loss, optimizer = opt, metrics = ['accuracy'])\n",
    "rnn.summary()"
   ]
  },
  {
   "cell_type": "markdown",
   "id": "69dd14fa",
   "metadata": {},
   "source": [
    "## train"
   ]
  },
  {
   "cell_type": "code",
   "execution_count": null,
   "id": "5969a0ca",
   "metadata": {
    "scrolled": true
   },
   "outputs": [],
   "source": [
    "checkpoint = tf.keras.callbacks.ModelCheckpoint('video checkpoint', monitor = 'val_loss', mode = 'min', save_best_only = True, verbose = 1)\n",
    "history = rnn.fit(train_gen,\n",
    "                  validation_data = val_gen,\n",
    "                  batch_size = bs,\n",
    "                  epochs = epochs,\n",
    "                  verbose = 1,\n",
    "                  steps_per_epoch = len(os.listdir('I:/poorya/datasets/video dataset/' + network_name + '/train')) // bs,\n",
    "                  validation_steps = len(os.listdir('I:/poorya/datasets/video dataset/' + network_name + '/val')) // bs,\n",
    "                  callbacks = [checkpoint]\n",
    "                  )"
   ]
  },
  {
   "cell_type": "code",
   "execution_count": null,
   "id": "146e4ba0",
   "metadata": {},
   "outputs": [],
   "source": [
    "plt.plot(history.history['accuracy'])\n",
    "plt.plot(history.history['val_accuracy'])\n",
    "plt.title('model accuracy')\n",
    "plt.ylabel('accuracy')\n",
    "plt.xlabel('epoch')\n",
    "plt.legend(['train', 'test'], loc = 'upper left')\n",
    "plt.show()\n",
    "plt.plot(history.history['loss'])\n",
    "plt.plot(history.history['val_loss'])\n",
    "plt.title('model loss')\n",
    "plt.ylabel('loss')\n",
    "plt.xlabel('epoch')\n",
    "plt.legend(['train', 'test'], loc = 'upper left')\n",
    "plt.show()"
   ]
  },
  {
   "cell_type": "markdown",
   "id": "2987822d",
   "metadata": {},
   "source": [
    "# test"
   ]
  },
  {
   "cell_type": "code",
   "execution_count": null,
   "id": "158e2c8b",
   "metadata": {
    "scrolled": true
   },
   "outputs": [],
   "source": [
    "#test dataset\n",
    "ts_df = pd.read_csv('I:/poorya/datasets/video dataset/' + network_name + '/test/ts_df.csv')\n",
    "testmodel = load_model('video checkpoint')\n",
    "tst_gen = datagen('test/', df = ts_df)\n",
    "tst_loss, tst_acc = testmodel.evaluate(tst_gen)"
   ]
  },
  {
   "cell_type": "code",
   "execution_count": null,
   "id": "700cc776",
   "metadata": {},
   "outputs": [],
   "source": [
    "#classification report\n",
    "def change(x):\n",
    "    answer = np.zeros((np.shape(x)[0]))\n",
    "    for i in range(np.shape(x)[0]):\n",
    "        max_value = max(x[i, :])\n",
    "        max_index = list(x[i, :]).index(max_value)\n",
    "        answer[i] = max_index\n",
    "    return answer.astype(np.int)\n",
    "\n",
    "\n",
    "adrs = 'I:/poorya/datasets/video dataset/' + network_name + '/test/'\n",
    "files = ts_df['file name'].tolist()\n",
    "X_test = [np.load(adrs + files[i]) for i in range(len(files))]\n",
    "X_test = np.array(X_test)\n",
    "X_test = [(X_test[i, :] - X_test[i, :].min()) / (X_test[i, :].max() - X_test[i, :].min()) for i in range(len(X_test))]\n",
    "X_test = np.array(X_test)\n",
    "Y_test = np.zeros((len(X_test), 2))\n",
    "Y_tes = ts_df['stressor lable'].tolist()\n",
    "\n",
    "for i in range(len(X_test)):\n",
    "    Y_test[i, 0] = int(Y_tes[i][1])\n",
    "    Y_test[i, 1] = int(Y_tes[i][4])\n"
   ]
  },
  {
   "cell_type": "code",
   "execution_count": null,
   "id": "76eb1794",
   "metadata": {},
   "outputs": [],
   "source": [
    "Y_pred = testmodel.predict(X_test)\n",
    "print('\\n\\n confusion_matrix : \\n', confusion_matrix(change(Y_pred), change(Y_test)))\n",
    "print('\\n\\n test accuracy is :', accuracy_score(change(Y_pred), change(Y_test)))\n",
    "print('\\n\\n classification report : \\n', classification_report(change(Y_pred), change(Y_test)))"
   ]
  }
 ],
 "metadata": {
  "kernelspec": {
   "display_name": "poorya kernel",
   "language": "python",
   "name": "poorya"
  },
  "language_info": {
   "codemirror_mode": {
    "name": "ipython",
    "version": 3
   },
   "file_extension": ".py",
   "mimetype": "text/x-python",
   "name": "python",
   "nbconvert_exporter": "python",
   "pygments_lexer": "ipython3",
   "version": "3.7.15"
  }
 },
 "nbformat": 4,
 "nbformat_minor": 5
}
