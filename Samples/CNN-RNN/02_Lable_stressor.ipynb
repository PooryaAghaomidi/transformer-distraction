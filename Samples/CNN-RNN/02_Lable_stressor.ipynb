{
 "cells": [
  {
   "cell_type": "markdown",
   "id": "938634ff",
   "metadata": {},
   "source": [
    "## import"
   ]
  },
  {
   "cell_type": "code",
   "execution_count": null,
   "id": "0de74ff8",
   "metadata": {},
   "outputs": [],
   "source": [
    "import os\n",
    "import shutil\n",
    "\n",
    "import cv2\n",
    "import imageio\n",
    "import matplotlib.pyplot as plt\n",
    "import numpy as np\n",
    "import pandas as pd\n",
    "from tensorflow.keras.preprocessing import image"
   ]
  },
  {
   "cell_type": "markdown",
   "id": "41256b42",
   "metadata": {},
   "source": [
    "## image preparation"
   ]
  },
  {
   "cell_type": "code",
   "execution_count": null,
   "id": "e8c995b3",
   "metadata": {},
   "outputs": [],
   "source": [
    "# conversion\n",
    "files = os.listdir('archive/videos')\n",
    "files.sort(key = len)\n",
    "\n",
    "level = ['BL', 'CD', 'ED', 'FD', 'MD', 'ND', 'PD', 'RD']\n",
    "strsr = [2, 3, 4, 0, 5, 2, 2, 2]\n",
    "txt = np.genfromtxt(fname = 'archive/FD.txt')\n",
    "\n",
    "lbl = np.array([strsr, ] * len(txt))\n",
    "lbl[:, 3] = np.array(txt).astype(int)\n",
    "\n",
    "count = 0\n",
    "for i in range(len(files)):\n",
    "    vidcap = cv2.VideoCapture('archive/videos/' + files[i])\n",
    "    success, image = vidcap.read()\n",
    "\n",
    "    while success:\n",
    "        cv2.imwrite('archive/lbl_img/' + str(count).zfill(7) + '_' +\n",
    "                    files[i][-6:-4] + '_' +\n",
    "                    level[(int(files[i][0:-7]) - 1) % 8] + '_' +\n",
    "                    str(lbl[int(files[i][-6:-4]) - 1, (int(files[i][0:-7]) - 1) % 8]) + '.jpg',\n",
    "                    image)\n",
    "        success, image = vidcap.read()\n",
    "        count += 1"
   ]
  },
  {
   "cell_type": "code",
   "execution_count": null,
   "id": "7b5447c6",
   "metadata": {
    "scrolled": true
   },
   "outputs": [],
   "source": [
    "# lable\n",
    "files = os.listdir('archive/lbl_img')\n",
    "#df      = pd.DataFrame(columns=['row', 'file name', 'subject id', 'level', 'type lable', 'stressor lable', 'frame counter'])\n",
    "#g       = files[0][11:13]\n",
    "#counter = 1\n",
    "\n",
    "for i in range(1525180, len(files)):\n",
    "    tmp = int(files[i][14:15])\n",
    "    lvl = files[i][11:13]\n",
    "\n",
    "    if lvl != g:\n",
    "        counter = counter + 1\n",
    "        g = lvl\n",
    "        print(counter)\n",
    "\n",
    "    if tmp > 2:\n",
    "        typee = 1\n",
    "        stressor = tmp - 2\n",
    "    elif tmp == 2:\n",
    "        typee = 0\n",
    "        stressor = 0\n",
    "    elif tmp == 1:\n",
    "        typee = 2\n",
    "        stressor = 4\n",
    "    elif tmp == 0:\n",
    "        typee = 3\n",
    "        stressor = 5\n",
    "\n",
    "    new_row = {\n",
    "        'row':            int(files[i][0:7]),\n",
    "        'file name':      files[i],\n",
    "        'subject id':     int(files[i][8:10]),\n",
    "        'level':          lvl,\n",
    "        'type lable':     typee,\n",
    "        'stressor lable': stressor,\n",
    "        'frame counter':  counter\n",
    "        }\n",
    "    df = df.append(new_row, ignore_index = True)\n"
   ]
  },
  {
   "cell_type": "code",
   "execution_count": null,
   "id": "f033160a",
   "metadata": {},
   "outputs": [],
   "source": [
    "# save\n",
    "df.to_csv('video dataset/lables/df.csv')"
   ]
  },
  {
   "cell_type": "code",
   "execution_count": null,
   "id": "cd026fb5",
   "metadata": {},
   "outputs": [],
   "source": [
    "# load\n",
    "df = pd.read_csv('video dataset/lables/df.csv')\n",
    "df = df.drop(columns = ['Unnamed: 0'])"
   ]
  },
  {
   "cell_type": "code",
   "execution_count": null,
   "id": "4b6fa84b",
   "metadata": {},
   "outputs": [],
   "source": [
    "# find faces\n",
    "classifier = load_model('checkpoint mine classifier')\n",
    "n = os.listdir('archive/lbl_img/')\n",
    "lables = []\n",
    "\n",
    "for i in range(1501305, len(n)):\n",
    "    img = []\n",
    "\n",
    "    train_igg = image.load_img('archive/lbl_img/' + n[i], color_mode = \"grayscale\")\n",
    "    train_img = image.img_to_array(train_igg)\n",
    "    train_img /= 255.0\n",
    "    img.append(train_img[:, 64:576])\n",
    "    img = np.array(img)\n",
    "    lbl = classifier.predict(img)\n",
    "    lables.append(lbl.reshape(4))\n",
    "    print(i)"
   ]
  },
  {
   "cell_type": "code",
   "execution_count": null,
   "id": "298eec38",
   "metadata": {},
   "outputs": [],
   "source": [
    "# check\n",
    "i = 5\n",
    "train_igg = image.load_img('archive/lbl_img/' + my_lbl['file name'][i], color_mode = \"grayscale\")\n",
    "\n",
    "a = np.ones(512)\n",
    "b = np.ones(512)\n",
    "\n",
    "plt.figure(figsize = (20, 10))\n",
    "plt.imshow(image.img_to_array(train_igg)[:, 64:576, 0])\n",
    "\n",
    "plt.plot(my_lbl['Ymin'][i] * b)\n",
    "plt.plot(my_lbl['Ymax'][i] * b)\n",
    "plt.plot(my_lbl['Xmin'][i] * a, range(np.shape(train_igg)[0]))\n",
    "plt.plot(my_lbl['Xmax'][i] * a, range(np.shape(train_igg)[0]))\n",
    "plt.show()"
   ]
  },
  {
   "cell_type": "code",
   "execution_count": null,
   "id": "6df6b5bf",
   "metadata": {},
   "outputs": [],
   "source": [
    "# save as df\n",
    "lables = np.array(lables).astype(int)\n",
    "my_lbl = pd.DataFrame(list(zip(n, lables[:, 0], lables[:, 1], lables[:, 2], lables[:, 3])), columns = ['file name',\n",
    "                                                                                                       'Xmin', 'Xmax',\n",
    "                                                                                                       'Ymin', 'Ymax'])\n",
    "my_lbl.to_csv('video dataset/lables/my_lbl.csv')"
   ]
  },
  {
   "cell_type": "code",
   "execution_count": null,
   "id": "7d5d3073",
   "metadata": {},
   "outputs": [],
   "source": [
    "# load\n",
    "my_lbl = pd.read_csv('video dataset/lables/my_lbl.csv')\n",
    "#my_lbl = df.drop(columns=['Unnamed: 0'])"
   ]
  },
  {
   "cell_type": "code",
   "execution_count": null,
   "id": "10b0d100",
   "metadata": {
    "scrolled": true
   },
   "outputs": [],
   "source": [
    "# find frame\n",
    "h = my_lbl['Ymax'] - my_lbl['Ymin']\n",
    "w = my_lbl['Xmax'] - my_lbl['Xmin']\n",
    "\n",
    "h = np.array(h)\n",
    "w = np.array(w)\n",
    "\n",
    "n, bins, patches = plt.hist(h, bins = 20)\n",
    "plt.show()\n",
    "n, bins, patches = plt.hist(w, bins = 20)\n",
    "plt.show()"
   ]
  },
  {
   "cell_type": "code",
   "execution_count": null,
   "id": "604f4064",
   "metadata": {
    "scrolled": true
   },
   "outputs": [],
   "source": [
    "# prepare frames\n",
    "cte = my_lbl.copy()\n",
    "\n",
    "cte['height'] = h\n",
    "cte['width'] = w\n",
    "\n",
    "cte['Y1'] = ''\n",
    "cte['Y2'] = ''\n",
    "cte['X1'] = ''\n",
    "cte['X2'] = ''\n",
    "\n",
    "idx = np.where(cte['height'] < 400)\n",
    "idx = np.array(idx).ravel()\n",
    "cte['Y1'][idx] = round(cte['Ymin'][idx] - (400 - cte['height'][idx]) / 2).astype(int)\n",
    "cte['Y2'][idx] = round(cte['Ymax'][idx] + (400 - cte['height'][idx]) / 2).astype(int)\n",
    "\n",
    "idx = np.where(cte['height'] > 400)\n",
    "idx = np.array(idx).ravel()\n",
    "cte['Y1'][idx] = round(cte['Ymin'][idx] + (cte['height'][idx] - 400) / 2).astype(int)\n",
    "cte['Y2'][idx] = round(cte['Ymax'][idx] - (cte['height'][idx] - 400) / 2).astype(int)\n",
    "\n",
    "idx = np.where(cte['height'] == 400)\n",
    "idx = np.array(idx).ravel()\n",
    "cte['Y1'][idx] = round(cte['Ymin'][idx]).astype(int)\n",
    "cte['Y2'][idx] = round(cte['Ymax'][idx]).astype(int)\n",
    "\n",
    "idx = np.where(cte['width'] < 300)\n",
    "idx = np.array(idx).ravel()\n",
    "cte['X1'][idx] = round(cte['Xmin'][idx] - (300 - cte['width'][idx]) / 2).astype(int)\n",
    "cte['X2'][idx] = round(cte['Xmax'][idx] + (300 - cte['width'][idx]) / 2).astype(int)\n",
    "\n",
    "idx = np.where(cte['width'] > 300)\n",
    "idx = np.array(idx).ravel()\n",
    "cte['X1'][idx] = round(cte['Xmin'][idx] + (cte['width'][idx] - 300) / 2).astype(int)\n",
    "cte['X2'][idx] = round(cte['Xmax'][idx] - (cte['width'][idx] - 300) / 2).astype(int)\n",
    "\n",
    "idx = np.where(cte['width'] == 300)\n",
    "idx = np.array(idx).ravel()\n",
    "cte['X1'][idx] = round(cte['Xmin'][idx]).astype(int)\n",
    "cte['X2'][idx] = round(cte['Xmax'][idx]).astype(int)\n",
    "\n",
    "cte['X1'] = pd.to_numeric(cte['X1'])\n",
    "idx = np.where(cte['X1'] <= 0)\n",
    "idx = np.array(idx).ravel()\n",
    "cte['X2'][idx] = 301\n",
    "cte['X1'][idx] = 1\n",
    "\n",
    "cte['X2'] = pd.to_numeric(cte['X2'])\n",
    "idx = np.where(cte['X2'] >= 512)\n",
    "idx = np.array(idx).ravel()\n",
    "cte['X1'][idx] = 211\n",
    "cte['X2'][idx] = 511\n",
    "\n",
    "cte['Y1'] = pd.to_numeric(cte['Y1'])\n",
    "idx = np.where(cte['Y1'] <= 0)\n",
    "idx = np.array(idx).ravel()\n",
    "cte['Y2'][idx] = 401\n",
    "cte['Y1'][idx] = 1\n",
    "\n",
    "cte['Y2'] = pd.to_numeric(cte['Y2'])\n",
    "idx = np.where(cte['Y2'] >= 480)\n",
    "idx = np.array(idx).ravel()\n",
    "cte['Y1'][idx] = 79\n",
    "cte['Y2'][idx] = 479"
   ]
  },
  {
   "cell_type": "code",
   "execution_count": null,
   "id": "71df6017",
   "metadata": {},
   "outputs": [],
   "source": [
    "# save\n",
    "cte = cte.drop(columns = ['Xmin', 'Xmax', 'Ymin', 'Ymax', 'height', 'width'])\n",
    "cte.to_csv('video dataset/lables/cte.csv')"
   ]
  },
  {
   "cell_type": "code",
   "execution_count": null,
   "id": "13c82a4d",
   "metadata": {},
   "outputs": [],
   "source": [
    "# load\n",
    "cte = pd.read_csv('video dataset/lables/cte.csv')\n",
    "cte = cte.drop(columns = ['Unnamed: 0'])"
   ]
  },
  {
   "cell_type": "code",
   "execution_count": null,
   "id": "18aa246b",
   "metadata": {},
   "outputs": [],
   "source": [
    "# add lables to main df\n",
    "df['X1'] = cte['X1'].copy()\n",
    "df['X2'] = cte['X2'].copy()\n",
    "df['Y1'] = cte['Y1'].copy()\n",
    "df['Y2'] = cte['Y2'].copy()"
   ]
  },
  {
   "cell_type": "code",
   "execution_count": null,
   "id": "d17a330c",
   "metadata": {},
   "outputs": [],
   "source": [
    "# remove FD\n",
    "idx = np.where((df['level'] == 'PD') | (df['level'] == 'FD'))\n",
    "df = df.drop(np.array(idx).ravel())"
   ]
  },
  {
   "cell_type": "code",
   "execution_count": null,
   "id": "3da19bda",
   "metadata": {},
   "outputs": [],
   "source": [
    "# number of frames\n",
    "frames = df['frame counter'].tolist()\n",
    "frames = [int(i) for i in frames]\n",
    "output = []\n",
    "\n",
    "for x in frames:\n",
    "    if x not in output:\n",
    "        output.append(x)\n",
    "\n",
    "rep = np.zeros((len(output), 2))\n",
    "output.sort()\n",
    "\n",
    "for i in range(len(output)):\n",
    "    rep[i, 0] = output[i]\n",
    "    rep[i, 1] = frames.count(output[i])\n",
    "\n",
    "rep = rep.astype(int)\n",
    "\n",
    "n, bins, patches = plt.hist(rep[:, 1], bins = 20)\n",
    "plt.show()\n",
    "\n",
    "print(min(rep[:, 1]))\n",
    "print(rep)"
   ]
  },
  {
   "cell_type": "code",
   "execution_count": null,
   "id": "2c065e9f",
   "metadata": {},
   "outputs": [],
   "source": [
    "# separate short videos\n",
    "idx = np.where((df['frame counter'] == 209) | (df['frame counter'] == 322))\n",
    "df_short = df.iloc[np.array(idx).ravel()]\n",
    "\n",
    "A = [i for i in list(range(len(df))) if i not in np.array(idx).ravel()]\n",
    "df_long = df.iloc[A]\n",
    "\n",
    "output.remove(209)\n",
    "output.remove(322)\n",
    "\n",
    "d = np.where((rep[:, 0] == 209) | (rep[:, 0] == 322))\n",
    "rep = np.delete(rep, d[0], 0)"
   ]
  },
  {
   "cell_type": "code",
   "execution_count": null,
   "id": "90e1eb8e",
   "metadata": {
    "scrolled": true
   },
   "outputs": [],
   "source": [
    "#check frame\n",
    "h = df_long['Y2'] - df_long['Y1']\n",
    "w = df_long['X2'] - df_long['X1']\n",
    "\n",
    "h = np.array(h)\n",
    "w = np.array(w)\n",
    "\n",
    "n, bins, patches = plt.hist(h)\n",
    "plt.show()\n",
    "n, bins, patches = plt.hist(w)\n",
    "plt.show()"
   ]
  },
  {
   "cell_type": "code",
   "execution_count": null,
   "id": "cf11babd",
   "metadata": {
    "scrolled": true
   },
   "outputs": [],
   "source": [
    "# prepare frames\n",
    "sequence = 80\n",
    "seq_numb = 20\n",
    "l = sequence * seq_numb\n",
    "counter = 1\n",
    "tl = df_long['type lable'].tolist()\n",
    "sl = df_long['stressor lable'].tolist()\n",
    "fn = df_long['file name'].tolist()\n",
    "y1 = df['Y1'].tolist()\n",
    "y2 = df['Y2'].tolist()\n",
    "x1 = df['X1'].tolist()\n",
    "x2 = df['X2'].tolist()\n",
    "\n",
    "for i in range(len(output)):\n",
    "    idx = np.where(df_long['frame counter'] == rep[i, 0])\n",
    "    idx = np.array(idx).ravel()\n",
    "    minus = round((l - rep[i, 1]) / (seq_numb + 1))\n",
    "\n",
    "    for j in range(seq_numb):\n",
    "        os.mkdir('video dataset/videos/' + str(counter).zfill(4) + '_' + str(tl[idx[0]]) + '_' + str(sl[idx[0]]))\n",
    "\n",
    "        for k in range(sequence):\n",
    "            ii = idx[(j + 1) * minus + j * sequence + k]\n",
    "            image = imageio.imread('archive/lbl_img/' + fn[ii])\n",
    "            image = image[int(y1[ii]):int(y2[ii]), (int(x1[ii]) + 64):(int(x2[ii]) + 64), :]\n",
    "            imageio.imwrite('video dataset/videos/' + str(counter).zfill(4) + '_' + str(tl[idx[0]]) + '_' + str(\n",
    "                sl[idx[0]]) + '/' + str(k) + '.jpg', image)\n",
    "\n",
    "        counter = counter + 1"
   ]
  },
  {
   "cell_type": "markdown",
   "id": "08033b7b",
   "metadata": {},
   "source": [
    "# data aug"
   ]
  },
  {
   "cell_type": "code",
   "execution_count": null,
   "id": "64595b16",
   "metadata": {},
   "outputs": [],
   "source": [
    "files = os.listdir('I:/poorya/datasets/video dataset/videos')\n",
    "counter = 0\n",
    "\n",
    "for i in range(len(files)):\n",
    "    for j in range(2):\n",
    "        os.mkdir('I:/poorya/datasets/video dataset/videos lts/' + str(counter).zfill(4) + files[i][4:])\n",
    "        for k in range(40):\n",
    "            shutil.copy2('I:/poorya/datasets/video dataset/videos/' + files[i] + '/' + str(j * 40 + k) + '.jpg',\n",
    "                         'I:/poorya/datasets/video dataset/videos lts/' + str(counter).zfill(4) + files[i][\n",
    "                                                                                                  4:] + '/' + str(k) + '.jpg')\n",
    "        counter = counter + 1"
   ]
  }
 ],
 "metadata": {
  "kernelspec": {
   "display_name": "Python [conda env:poorya] *",
   "language": "python",
   "name": "conda-env-poorya-py"
  },
  "language_info": {
   "codemirror_mode": {
    "name": "ipython",
    "version": 3
   },
   "file_extension": ".py",
   "mimetype": "text/x-python",
   "name": "python",
   "nbconvert_exporter": "python",
   "pygments_lexer": "ipython3",
   "version": "3.7.11"
  }
 },
 "nbformat": 4,
 "nbformat_minor": 5
}
