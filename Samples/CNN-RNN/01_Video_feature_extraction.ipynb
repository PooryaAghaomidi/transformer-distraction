{
 "cells": [
  {
   "cell_type": "markdown",
   "id": "deaafd35",
   "metadata": {},
   "source": [
    "## test"
   ]
  },
  {
   "cell_type": "code",
   "execution_count": null,
   "id": "9c383b35",
   "metadata": {
    "scrolled": false
   },
   "outputs": [],
   "source": [
    "import tensorflow as tf\n",
    "import os\n",
    "\n",
    "os.environ[\"CUDA_VISIBLE_DEVICES\"] = \"0\"\n",
    "print(tf.__version__)\n",
    "print(tf.config.list_physical_devices('GPU'))\n",
    "#tf.config.experimental_run_functions_eagerly(True)"
   ]
  },
  {
   "cell_type": "markdown",
   "id": "390dae26",
   "metadata": {},
   "source": [
    "## import"
   ]
  },
  {
   "cell_type": "code",
   "execution_count": null,
   "id": "606e4c68",
   "metadata": {},
   "outputs": [],
   "source": [
    "import pandas as pd\n",
    "import numpy as np\n",
    "from tensorflow.keras.preprocessing import image\n",
    "from tensorflow.keras.utils import plot_model"
   ]
  },
  {
   "cell_type": "markdown",
   "id": "25ce4ac1",
   "metadata": {},
   "source": [
    "## feature extractor"
   ]
  },
  {
   "cell_type": "code",
   "execution_count": null,
   "id": "20d4a7bb",
   "metadata": {},
   "outputs": [],
   "source": [
    "network_name = 'ResNet50 lts not preprocessed'"
   ]
  },
  {
   "cell_type": "code",
   "execution_count": null,
   "id": "6c2baacf",
   "metadata": {},
   "outputs": [],
   "source": [
    "def build_feature_extractor():\n",
    "\n",
    "    feature_extractor = tf.keras.applications.ResNet50(weights = \"resnet50_weights_tf_dim_ordering_tf_kernels_notop.h5\",\n",
    "                                                       include_top = False, pooling = \"avg\", input_shape = (\n",
    "        400, 300, 3))\n",
    "    #preprocess_input  = tf.keras.applications.inception_v3.preprocess_input\n",
    "    inputs = tf.keras.Input((400, 300, 3))\n",
    "    #preprocessed      = preprocess_input(inputs)\n",
    "    outputs = feature_extractor(inputs)\n",
    "\n",
    "    return tf.keras.Model(inputs, outputs, name = \"feature_extractor\")\n",
    "\n",
    "\n",
    "feature_extractor = build_feature_extractor()"
   ]
  },
  {
   "cell_type": "code",
   "execution_count": null,
   "id": "ef671ca8",
   "metadata": {
    "scrolled": true
   },
   "outputs": [],
   "source": [
    "n = os.listdir('I:/poorya/datasets/video dataset/videos lts/')\n",
    "features = np.zeros((len(n), 40, 2048), dtype = \"float32\")\n",
    "strsr_lbl = np.zeros((len(n), 2))\n",
    "typee_lbl = np.zeros((len(n), 4))\n",
    "\n",
    "for i in range(len(n)):\n",
    "    strsr_lbl[i, int(n[i][-3])] = 1\n",
    "    typee_lbl[i, int(n[i][-1])] = 1\n",
    "    print(i)\n",
    "\n",
    "    for j in range(40):\n",
    "        img = image.img_to_array(image.load_img('I:/poorya/datasets/video dataset/videos lts/' + n[\n",
    "            i] + '/' + str(j) + '.jpg'))\n",
    "        img /= 255.0\n",
    "        features[i, j, :] = feature_extractor.predict(np.expand_dims(img, 0)).squeeze()"
   ]
  },
  {
   "cell_type": "code",
   "execution_count": null,
   "id": "a138e228",
   "metadata": {},
   "outputs": [],
   "source": [
    "#strsr_lbl = np.load('I:/poorya/datasets/video dataset/lables/strsr_lbl.npy'             ) \n",
    "#ll = np.zeros((len(strsr_lbl)))\n",
    "\n",
    "#for i in range(len(strsr_lbl)) :\n",
    "#ll[i] = int(np.where(np.array(strsr_lbl[i]) == 1)[0][0])\n",
    "\n",
    "#ll = ll.astype('int')"
   ]
  },
  {
   "cell_type": "code",
   "execution_count": null,
   "id": "fc3298bd",
   "metadata": {},
   "outputs": [],
   "source": [
    "os.mkdir('I:/poorya/datasets/video dataset/' + network_name)\n",
    "np.save('I:/poorya/datasets/video dataset/' + network_name + '/features.npy', features)\n",
    "np.save('I:/poorya/datasets/video dataset/lables/strsr_lts_lbl.npy', strsr_lbl)\n",
    "np.save('I:/poorya/datasets/video dataset/lables/typee_lts_lbl.npy', typee_lbl)\n",
    "#np.save( 'I:/poorya/datasets/video dataset/lables/ll.npy'                     , ll       )"
   ]
  },
  {
   "cell_type": "markdown",
   "id": "4e3a319e",
   "metadata": {},
   "source": [
    "## data preparation"
   ]
  },
  {
   "cell_type": "code",
   "execution_count": null,
   "id": "ed0307c3",
   "metadata": {},
   "outputs": [],
   "source": [
    "#features  = np.load('I:/poorya/datasets/video dataset/' + network_name + '/features.npy')\n",
    "#typee_lbl = np.load('I:/poorya/datasets/video dataset/lables/typee_lbl.npy'             )\n",
    "#ll        = np.load('I:/poorya/datasets/video dataset/lables/ll.npy'                    )"
   ]
  },
  {
   "cell_type": "code",
   "execution_count": null,
   "id": "320fc539",
   "metadata": {},
   "outputs": [],
   "source": [
    "l = len(features)\n",
    "values = [i for i in range(l)]\n",
    "permutations = np.random.permutation(values)\n",
    "X = features[permutations, :, :]\n",
    "Ys = strsr_lbl[permutations]\n",
    "\n",
    "X_train = X[:int(0.8 * l), :, :]\n",
    "Y_train = Ys[:int(0.8 * l)]\n",
    "X_test = X[int(0.8 * l):, :, :]\n",
    "Y_test = Ys[int(0.8 * l):]\n",
    "\n",
    "sizee = len(X_test)\n",
    "val = 0.5\n",
    "X_val = X_test[:int(val * sizee), :]\n",
    "Y_val = Y_test[:int(val * sizee)]\n",
    "X_test = X_test[int(val * sizee):, :]\n",
    "Y_test = Y_test[int(val * sizee):]"
   ]
  },
  {
   "cell_type": "code",
   "execution_count": null,
   "id": "299adb0b",
   "metadata": {},
   "outputs": [],
   "source": [
    "tr_df = pd.DataFrame({\n",
    "                         'file name':      [str(i) + '.npy' for i in range(len(X_train))],\n",
    "                         'stressor lable': [[int(Y_train[i, 0]), int(Y_train[i, 1])] for i in range(len(Y_train))]\n",
    "                         })\n",
    "\n",
    "ts_df = pd.DataFrame({\n",
    "                         'file name':      [str(i) + '.npy' for i in range(len(X_test))],\n",
    "                         'stressor lable': [[int(Y_test[i, 0]), int(Y_test[i, 1])] for i in range(len(Y_test))]\n",
    "                         })\n",
    "\n",
    "vl_df = pd.DataFrame({\n",
    "                         'file name':      [str(i) + '.npy' for i in range(len(X_val))],\n",
    "                         'stressor lable': [[int(Y_val[i, 0]), int(Y_val[i, 1])] for i in range(len(Y_val))]\n",
    "                         })\n",
    "\n",
    "#'stressor lable': [[int(Y_train[i,0]), int(Y_train[i,1])] for i in range(len(Y_train))]})"
   ]
  },
  {
   "cell_type": "code",
   "execution_count": null,
   "id": "5f934fde",
   "metadata": {},
   "outputs": [],
   "source": [
    "os.mkdir('I:/poorya/datasets/video dataset/' + network_name + '/train')\n",
    "os.mkdir('I:/poorya/datasets/video dataset/' + network_name + '/test')\n",
    "os.mkdir('I:/poorya/datasets/video dataset/' + network_name + '/val')"
   ]
  },
  {
   "cell_type": "code",
   "execution_count": null,
   "id": "faa54b5f",
   "metadata": {},
   "outputs": [],
   "source": [
    "tr_df.to_csv('I:/poorya/datasets/video dataset/' + network_name + '/train/tr_df.csv')\n",
    "ts_df.to_csv('I:/poorya/datasets/video dataset/' + network_name + '/test/ts_df.csv')\n",
    "vl_df.to_csv('I:/poorya/datasets/video dataset/' + network_name + '/val/vl_df.csv')"
   ]
  },
  {
   "cell_type": "code",
   "execution_count": null,
   "id": "35958233",
   "metadata": {},
   "outputs": [],
   "source": [
    "def sv(myx, adrs):\n",
    "    for i in range(len(myx)):\n",
    "        np.save('I:/poorya/datasets/video dataset/' + network_name + '/' + adrs + str(i) + '.npy', myx[i, :, :])\n",
    "\n",
    "\n",
    "sv(X_train, 'train/')\n",
    "sv(X_test, 'test/')\n",
    "sv(X_val, 'val/')"
   ]
  }
 ],
 "metadata": {
  "kernelspec": {
   "display_name": "Python 3 (ipykernel)",
   "language": "python",
   "name": "python3"
  },
  "language_info": {
   "codemirror_mode": {
    "name": "ipython",
    "version": 3
   },
   "file_extension": ".py",
   "mimetype": "text/x-python",
   "name": "python",
   "nbconvert_exporter": "python",
   "pygments_lexer": "ipython3",
   "version": "3.7.16"
  }
 },
 "nbformat": 4,
 "nbformat_minor": 5
}
