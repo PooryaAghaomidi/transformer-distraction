{
 "cells": [
  {
   "cell_type": "markdown",
   "id": "deaafd35",
   "metadata": {},
   "source": [
    "## test"
   ]
  },
  {
   "cell_type": "code",
   "execution_count": null,
   "id": "9c383b35",
   "metadata": {
    "scrolled": false
   },
   "outputs": [],
   "source": [
    "import tensorflow as tf\n",
    "import os\n",
    "\n",
    "os.environ[\"CUDA_VISIBLE_DEVICES\"] = \"0\"\n",
    "print(tf.__version__)\n",
    "print(tf.config.list_physical_devices('GPU'))\n",
    "#tf.config.experimental_run_functions_eagerly(True)"
   ]
  },
  {
   "cell_type": "markdown",
   "id": "390dae26",
   "metadata": {},
   "source": [
    "## import"
   ]
  },
  {
   "cell_type": "code",
   "execution_count": null,
   "id": "606e4c68",
   "metadata": {},
   "outputs": [],
   "source": [
    "import pandas as pd\n",
    "import numpy as np\n",
    "import shutil"
   ]
  },
  {
   "cell_type": "markdown",
   "id": "4e3a319e",
   "metadata": {},
   "source": [
    "## data preparation"
   ]
  },
  {
   "cell_type": "code",
   "execution_count": null,
   "id": "63668b05",
   "metadata": {},
   "outputs": [],
   "source": [
    "n = os.listdir('I:/poorya/datasets/video dataset/videos lts/')\n",
    "n = np.array(n)\n",
    "lbl = np.zeros((len(n), 2), dtype = int)\n",
    "\n",
    "for i in range(len(n)):\n",
    "    lbl[i, int(n[i][-3])] = 1"
   ]
  },
  {
   "cell_type": "code",
   "execution_count": null,
   "id": "320fc539",
   "metadata": {},
   "outputs": [],
   "source": [
    "l = len(n)\n",
    "values = [i for i in range(l)]\n",
    "permutations = np.random.permutation(values)\n",
    "X = n[permutations]\n",
    "Ys = lbl[permutations, :]\n",
    "\n",
    "X_train = X[:int(0.8 * l)]\n",
    "Y_train = Ys[:int(0.8 * l), :]\n",
    "X_test = X[int(0.8 * l):]\n",
    "Y_test = Ys[int(0.8 * l):, :]\n",
    "\n",
    "sizee = len(X_test)\n",
    "val = 0.5\n",
    "X_val = X_test[:int(val * sizee)]\n",
    "Y_val = Y_test[:int(val * sizee), :]\n",
    "X_test = X_test[int(val * sizee):]\n",
    "Y_test = Y_test[int(val * sizee):, :]"
   ]
  },
  {
   "cell_type": "code",
   "execution_count": null,
   "id": "996b22d2",
   "metadata": {},
   "outputs": [],
   "source": [
    "for i in range(len(X_train)):\n",
    "    shutil.copytree('I:/poorya/datasets/video dataset/videos lts/' + X_train[\n",
    "        i], 'I:/poorya/datasets/video dataset/3D/train/' + str(i))\n",
    "\n",
    "for i in range(len(X_test)):\n",
    "    shutil.copytree('I:/poorya/datasets/video dataset/videos lts/' + X_test[\n",
    "        i], 'I:/poorya/datasets/video dataset/3D/test/' + str(i))\n",
    "\n",
    "for i in range(len(X_val)):\n",
    "    shutil.copytree('I:/poorya/datasets/video dataset/videos lts/' + X_val[\n",
    "        i], 'I:/poorya/datasets/video dataset/3D/val/' + str(i))"
   ]
  },
  {
   "cell_type": "code",
   "execution_count": null,
   "id": "299adb0b",
   "metadata": {},
   "outputs": [],
   "source": [
    "tr_df = pd.DataFrame({\n",
    "                         'file name':      [str(i) for i in range(len(X_train))],\n",
    "                         'stressor lable': [Y_train[i, :] for i in range(len(Y_train))]\n",
    "                         })\n",
    "\n",
    "ts_df = pd.DataFrame({\n",
    "                         'file name':      [str(i) for i in range(len(X_test))],\n",
    "                         'stressor lable': [Y_test[i, :] for i in range(len(Y_test))]\n",
    "                         })\n",
    "\n",
    "vl_df = pd.DataFrame({\n",
    "                         'file name':      [str(i) for i in range(len(X_val))],\n",
    "                         'stressor lable': [Y_val[i, :] for i in range(len(Y_val))]\n",
    "                         })\n",
    "\n",
    "#'stressor lable': [[int(Y_train[i,0]), int(Y_train[i,1])] for i in range(len(Y_train))]})"
   ]
  },
  {
   "cell_type": "code",
   "execution_count": null,
   "id": "faa54b5f",
   "metadata": {},
   "outputs": [],
   "source": [
    "tr_df.to_csv('I:/poorya/datasets/video dataset/3D/tr_df.csv')\n",
    "ts_df.to_csv('I:/poorya/datasets/video dataset/3D/ts_df.csv')\n",
    "vl_df.to_csv('I:/poorya/datasets/video dataset/3D/vl_df.csv')"
   ]
  },
  {
   "cell_type": "code",
   "execution_count": null,
   "id": "9424b82a",
   "metadata": {},
   "outputs": [],
   "source": []
  }
 ],
 "metadata": {
  "kernelspec": {
   "display_name": "Python [conda env:poorya] *",
   "language": "python",
   "name": "conda-env-poorya-py"
  },
  "language_info": {
   "codemirror_mode": {
    "name": "ipython",
    "version": 3
   },
   "file_extension": ".py",
   "mimetype": "text/x-python",
   "name": "python",
   "nbconvert_exporter": "python",
   "pygments_lexer": "ipython3",
   "version": "3.7.11"
  }
 },
 "nbformat": 4,
 "nbformat_minor": 5
}
