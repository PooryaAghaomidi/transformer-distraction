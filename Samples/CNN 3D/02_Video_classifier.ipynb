{
 "cells": [
  {
   "cell_type": "markdown",
   "id": "deaafd35",
   "metadata": {},
   "source": [
    "## test"
   ]
  },
  {
   "cell_type": "code",
   "execution_count": null,
   "id": "9c383b35",
   "metadata": {},
   "outputs": [],
   "source": [
    "import os\n",
    "\n",
    "import tensorflow as tf\n",
    "\n",
    "os.environ[\"CUDA_VISIBLE_DEVICES\"] = \"0\"\n",
    "print(tf.__version__)\n",
    "print(tf.config.list_physical_devices('GPU'))\n",
    "#tf.config.run_functions_eagerly(True)\n",
    "#tf.config.experimental_run_functions_eagerly(True)"
   ]
  },
  {
   "cell_type": "markdown",
   "id": "390dae26",
   "metadata": {},
   "source": [
    "## import"
   ]
  },
  {
   "cell_type": "code",
   "execution_count": null,
   "id": "606e4c68",
   "metadata": {},
   "outputs": [],
   "source": [
    "import pandas as pd\n",
    "import numpy as np\n",
    "import matplotlib.pyplot as plt\n",
    "from sklearn.metrics import confusion_matrix, accuracy_score, classification_report\n",
    "from tensorflow.keras.preprocessing import image\n",
    "from tensorflow.keras.layers import Dense, Dropout, Conv3D, Flatten\n",
    "from tensorflow.keras.layers import MaxPooling3D\n",
    "from tensorflow.keras.models import load_model"
   ]
  },
  {
   "cell_type": "markdown",
   "id": "bf67dce0",
   "metadata": {},
   "source": [
    "## preparation"
   ]
  },
  {
   "cell_type": "code",
   "execution_count": null,
   "id": "89d75ffe",
   "metadata": {},
   "outputs": [],
   "source": [
    "bs = 1\n",
    "epochs = 500\n",
    "ler = 0.0008"
   ]
  },
  {
   "cell_type": "code",
   "execution_count": null,
   "id": "967c27ef",
   "metadata": {},
   "outputs": [],
   "source": [
    "tr_df = pd.read_csv('I:/poorya/datasets/video dataset/3D/tr_df.csv')\n",
    "vl_df = pd.read_csv('I:/poorya/datasets/video dataset/3D/vl_df.csv')"
   ]
  },
  {
   "cell_type": "code",
   "execution_count": null,
   "id": "64b63627",
   "metadata": {},
   "outputs": [],
   "source": [
    "def datagen(folder, df):\n",
    "    i = 0\n",
    "    n = df['file name'].tolist()\n",
    "    l = df['stressor lable'].tolist()\n",
    "\n",
    "    while (True):\n",
    "        img = []\n",
    "        lbl = np.zeros((1, 2))\n",
    "        lbl[0, 0] = int(l[i][1])\n",
    "        lbl[0, 1] = int(l[i][3])\n",
    "        for j in range(40):\n",
    "            x = image.img_to_array(image.load_img('I:/poorya/datasets/video dataset/3D/' + folder + str(\n",
    "                n[i]) + '/' + str(j) + '.jpg', color_mode = \"grayscale\"))\n",
    "            x /= 255.0\n",
    "            img.append(x)\n",
    "\n",
    "        i += 1\n",
    "        if (i + 1 >= len(n)):\n",
    "            i = 0\n",
    "        yield np.array(np.expand_dims(img, axis = 0)), lbl\n",
    "\n",
    "\n",
    "train_gen = datagen('train/', df = tr_df)\n",
    "val_gen = datagen('val/', df = vl_df)"
   ]
  },
  {
   "cell_type": "markdown",
   "id": "dd503149",
   "metadata": {},
   "source": [
    "## model"
   ]
  },
  {
   "cell_type": "code",
   "execution_count": null,
   "id": "053949cf",
   "metadata": {
    "scrolled": true
   },
   "outputs": [],
   "source": [
    "inputt = tf.keras.Input((40, 400, 300, 1))\n",
    "x = Conv3D(8, (3, 3, 1), activation = 'relu')(inputt)\n",
    "x = MaxPooling3D(pool_size = (2, 2, 2), strides = (1, 2, 2))(x)\n",
    "#x = BatchNormalization()(x)\n",
    "x = Conv3D(16, (3, 3, 1), activation = 'relu')(x)\n",
    "x = MaxPooling3D(pool_size = (2, 2, 2), strides = (1, 2, 2))(x)\n",
    "#x = BatchNormalization()(x)\n",
    "x = Conv3D(32, (3, 3, 1), activation = 'relu')(x)\n",
    "x = MaxPooling3D(pool_size = (2, 2, 2), strides = (1, 2, 2))(x)\n",
    "#x = BatchNormalization()(x)\n",
    "x = Conv3D(64, (3, 3, 1), activation = 'relu')(x)\n",
    "x = MaxPooling3D(pool_size = (2, 2, 2), strides = (1, 2, 2))(x)\n",
    "#x = BatchNormalization()(x)\n",
    "x = Flatten()(x)\n",
    "x = Dense(128)(x)\n",
    "x = Dropout(0.0)(x)\n",
    "x = Dense(128)(x)\n",
    "x = Dropout(0.0)(x)\n",
    "x = Dense(64)(x)\n",
    "x = Dropout(0.0)(x)\n",
    "x = Dense(32)(x)\n",
    "x = Dropout(0.0)(x)\n",
    "endd = Dense(2, activation = 'softmax')(x)\n",
    "\n",
    "model = tf.keras.Model(inputt, endd)\n",
    "\n",
    "opt = tf.keras.optimizers.Adamax(learning_rate = ler, decay = 0.001, clipvalue = 0.5, epsilon = 1e-07)\n",
    "loss = tf.keras.losses.BinaryCrossentropy()\n",
    "\n",
    "model.compile(loss = loss, optimizer = opt, metrics = ['accuracy'])\n",
    "model.summary()"
   ]
  },
  {
   "cell_type": "markdown",
   "id": "69dd14fa",
   "metadata": {},
   "source": [
    "## train"
   ]
  },
  {
   "cell_type": "code",
   "execution_count": null,
   "id": "5969a0ca",
   "metadata": {
    "scrolled": true
   },
   "outputs": [],
   "source": [
    "checkpoint = tf.keras.callbacks.ModelCheckpoint('video checkpoint', monitor = 'val_loss', mode = 'min', save_best_only = True, verbose = 1)\n",
    "history = model.fit(train_gen,\n",
    "                    validation_data = val_gen,\n",
    "                    batch_size = bs,\n",
    "                    epochs = epochs,\n",
    "                    verbose = 1,\n",
    "                    steps_per_epoch = len(os.listdir('I:/poorya/datasets/video dataset/3D/train')) // bs,\n",
    "                    validation_steps = len(os.listdir('I:/poorya/datasets/video dataset/3D/val')) // bs,\n",
    "                    callbacks = [checkpoint]\n",
    "                    )"
   ]
  },
  {
   "cell_type": "code",
   "execution_count": null,
   "id": "146e4ba0",
   "metadata": {},
   "outputs": [],
   "source": [
    "plt.plot(history.history['accuracy'])\n",
    "plt.plot(history.history['val_accuracy'])\n",
    "plt.title('model accuracy')\n",
    "plt.ylabel('accuracy')\n",
    "plt.xlabel('epoch')\n",
    "plt.legend(['train', 'test'], loc = 'upper left')\n",
    "plt.show()\n",
    "plt.plot(history.history['loss'])\n",
    "plt.plot(history.history['val_loss'])\n",
    "plt.title('model loss')\n",
    "plt.ylabel('loss')\n",
    "plt.xlabel('epoch')\n",
    "plt.legend(['train', 'test'], loc = 'upper left')\n",
    "plt.show()"
   ]
  },
  {
   "cell_type": "markdown",
   "id": "2987822d",
   "metadata": {},
   "source": [
    "# test"
   ]
  },
  {
   "cell_type": "code",
   "execution_count": null,
   "id": "158e2c8b",
   "metadata": {
    "scrolled": true
   },
   "outputs": [],
   "source": [
    "#test dataset\n",
    "ts_df = pd.read_csv('I:/poorya/datasets/video dataset/3D/ts_df.csv')\n",
    "testmodel = load_model('video checkpoint')\n",
    "tst_gen = datagen('test/', df = ts_df)\n",
    "tst_loss, tst_acc = testmodel.evaluate(tst_gen)"
   ]
  },
  {
   "cell_type": "code",
   "execution_count": null,
   "id": "700cc776",
   "metadata": {},
   "outputs": [],
   "source": [
    "#classification report\n",
    "def change(x):\n",
    "    answer = np.zeros((np.shape(x)[0]))\n",
    "    for i in range(np.shape(x)[0]):\n",
    "        max_value = max(x[i, :])\n",
    "        max_index = list(x[i, :]).index(max_value)\n",
    "        answer[i] = max_index\n",
    "    return answer.astype(np.int)\n",
    "\n",
    "\n",
    "adrs = 'I:/poorya/datasets/video dataset/3D/test/'\n",
    "files = ts_df['file name'].tolist()\n",
    "X_test = [np.load(adrs + files[i]) for i in range(len(files))]\n",
    "X_test = np.array(X_test)\n",
    "X_test = [(X_test[i, :] - X_test[i, :].min()) / (X_test[i, :].max() - X_test[i, :].min()) for i in range(len(X_test))]\n",
    "X_test = np.array(X_test)\n",
    "Y_test = np.zeros((len(X_test), 2))\n",
    "Y_tes = ts_df['stressor lable'].tolist()\n",
    "\n",
    "for i in range(len(X_test)):\n",
    "    Y_test[i, 0] = int(Y_tes[i][1])\n",
    "    Y_test[i, 1] = int(Y_tes[i][4])\n"
   ]
  },
  {
   "cell_type": "code",
   "execution_count": null,
   "id": "76eb1794",
   "metadata": {},
   "outputs": [],
   "source": [
    "Y_pred = testmodel.predict(X_test)\n",
    "print('\\n\\n confusion_matrix : \\n', confusion_matrix(change(Y_pred), change(Y_test)))\n",
    "print('\\n\\n test accuracy is :', accuracy_score(change(Y_pred), change(Y_test)))\n",
    "print('\\n\\n classification report : \\n', classification_report(change(Y_pred), change(Y_test)))"
   ]
  },
  {
   "cell_type": "code",
   "execution_count": null,
   "id": "b34a0cab",
   "metadata": {},
   "outputs": [],
   "source": []
  }
 ],
 "metadata": {
  "kernelspec": {
   "display_name": "Python [conda env:poorya] *",
   "language": "python",
   "name": "conda-env-poorya-py"
  },
  "language_info": {
   "codemirror_mode": {
    "name": "ipython",
    "version": 3
   },
   "file_extension": ".py",
   "mimetype": "text/x-python",
   "name": "python",
   "nbconvert_exporter": "python",
   "pygments_lexer": "ipython3",
   "version": "3.7.11"
  }
 },
 "nbformat": 4,
 "nbformat_minor": 5
}
