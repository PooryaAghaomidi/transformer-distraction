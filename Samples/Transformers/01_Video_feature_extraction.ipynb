{
 "cells": [
  {
   "cell_type": "markdown",
   "id": "deaafd35",
   "metadata": {},
   "source": [
    "## test"
   ]
  },
  {
   "cell_type": "code",
   "execution_count": null,
   "id": "9c383b35",
   "metadata": {
    "scrolled": false
   },
   "outputs": [],
   "source": [
    "import os\n",
    "\n",
    "import tensorflow as tf\n",
    "\n",
    "os.environ[\"CUDA_VISIBLE_DEVICES\"] = \"0\"\n",
    "print(tf.__version__)\n",
    "print(tf.config.list_physical_devices('GPU'))\n",
    "#tf.config.experimental_run_functions_eagerly(True)"
   ]
  },
  {
   "cell_type": "markdown",
   "id": "390dae26",
   "metadata": {},
   "source": [
    "## import"
   ]
  },
  {
   "cell_type": "code",
   "execution_count": null,
   "id": "606e4c68",
   "metadata": {},
   "outputs": [],
   "source": [
    "import pandas as pd\n",
    "import numpy as np\n",
    "from tensorflow.keras.preprocessing import image"
   ]
  },
  {
   "cell_type": "markdown",
   "id": "25ce4ac1",
   "metadata": {},
   "source": [
    "## feature extractor"
   ]
  },
  {
   "cell_type": "code",
   "execution_count": null,
   "id": "20d4a7bb",
   "metadata": {},
   "outputs": [],
   "source": [
    "network_name = 'transformers'"
   ]
  },
  {
   "cell_type": "code",
   "execution_count": null,
   "id": "6c2baacf",
   "metadata": {},
   "outputs": [],
   "source": [
    "def build_feature_extractor():\n",
    "\n",
    "    feature_extractor = tf.keras.applications.DenseNet121(weights = \"densenet121_weights_tf_dim_ordering_tf_kernels_notop.h5\",\n",
    "                                                          include_top = False, pooling = \"avg\", input_shape = (\n",
    "        400, 300, 3))\n",
    "    #preprocess_input  = tf.keras.applications.inception_v3.preprocess_input\n",
    "    inputs = tf.keras.Input((400, 300, 3))\n",
    "    #preprocessed      = preprocess_input(inputs)\n",
    "    outputs = feature_extractor(inputs)\n",
    "\n",
    "    return tf.keras.Model(inputs, outputs, name = \"feature_extractor\")\n",
    "\n",
    "\n",
    "feature_extractor = build_feature_extractor()"
   ]
  },
  {
   "cell_type": "code",
   "execution_count": null,
   "id": "ef671ca8",
   "metadata": {
    "scrolled": true
   },
   "outputs": [],
   "source": [
    "n = os.listdir('I:/poorya/datasets/video dataset/videos lts/')\n",
    "features = np.zeros((len(n), 40, 1024), dtype = \"float32\")\n",
    "strsr_lbl = np.zeros((len(n), 1))\n",
    "typee_lbl = np.zeros((len(n), 1))\n",
    "\n",
    "for i in range(len(n)):\n",
    "    strsr_lbl[i, 0] = int(n[i][-3])\n",
    "    typee_lbl[i, 0] = int(n[i][-1])\n",
    "    print(i)\n",
    "\n",
    "    for j in range(40):\n",
    "        img = image.img_to_array(image.load_img('I:/poorya/datasets/video dataset/videos lts/' + n[\n",
    "            i] + '/' + str(j) + '.jpg'))\n",
    "        img /= 255.0\n",
    "        features[i, j, :] = feature_extractor.predict(np.expand_dims(img, 0)).squeeze()"
   ]
  },
  {
   "cell_type": "code",
   "execution_count": null,
   "id": "a138e228",
   "metadata": {},
   "outputs": [],
   "source": [
    "#strsr_lbl = np.load('I:/poorya/datasets/video dataset/lables/strsr_lbl.npy'             ) \n",
    "#ll = np.zeros((len(strsr_lbl)))\n",
    "\n",
    "#for i in range(len(strsr_lbl)) :\n",
    "#ll[i] = int(np.where(np.array(strsr_lbl[i]) == 1)[0][0])\n",
    "\n",
    "#ll = ll.astype('int')"
   ]
  },
  {
   "cell_type": "code",
   "execution_count": null,
   "id": "fc3298bd",
   "metadata": {},
   "outputs": [],
   "source": [
    "os.mkdir('I:/poorya/datasets/video dataset/' + network_name)\n",
    "np.save('I:/poorya/datasets/video dataset/' + network_name + '/features.npy', features)\n",
    "np.save('I:/poorya/datasets/video dataset/lables/strsr_lts_trns_lbl.npy', strsr_lbl)\n",
    "np.save('I:/poorya/datasets/video dataset/lables/typee_lts_trns_lbl.npy', typee_lbl)\n",
    "#np.save( 'I:/poorya/datasets/video dataset/lables/ll.npy'                     , ll       )"
   ]
  },
  {
   "cell_type": "markdown",
   "id": "4e3a319e",
   "metadata": {},
   "source": [
    "## data preparation"
   ]
  },
  {
   "cell_type": "code",
   "execution_count": null,
   "id": "ed0307c3",
   "metadata": {},
   "outputs": [],
   "source": [
    "#features  = np.load('I:/poorya/datasets/video dataset/' + network_name + '/features.npy')\n",
    "#typee_lbl = np.load('I:/poorya/datasets/video dataset/lables/typee_lbl.npy'             )\n",
    "#ll        = np.load('I:/poorya/datasets/video dataset/lables/ll.npy'                    )"
   ]
  },
  {
   "cell_type": "code",
   "execution_count": null,
   "id": "320fc539",
   "metadata": {},
   "outputs": [],
   "source": [
    "l = len(features)\n",
    "values = [i for i in range(l)]\n",
    "permutations = np.random.permutation(values)\n",
    "X = features[permutations, :, :]\n",
    "Ys = strsr_lbl[permutations]\n",
    "Yt = typee_lbl[permutations]\n",
    "\n",
    "X_train = X[:int(0.8 * l), :, :]\n",
    "Y_train_s = Ys[:int(0.8 * l)]\n",
    "Y_train_t = Yt[:int(0.8 * l)]\n",
    "X_test = X[int(0.8 * l):, :, :]\n",
    "Y_test_s = Ys[int(0.8 * l):]\n",
    "Y_test_t = Yt[int(0.8 * l):]\n",
    "\n",
    "sizee = len(X_test)\n",
    "val = 0.5\n",
    "X_val = X_test[:int(val * sizee), :]\n",
    "Y_val_t = Y_test_t[:int(val * sizee)]\n",
    "Y_val_s = Y_test_s[:int(val * sizee)]\n",
    "X_test = X_test[int(val * sizee):, :]\n",
    "Y_test_t = Y_test_t[int(val * sizee):]\n",
    "Y_test_s = Y_test_s[int(val * sizee):]"
   ]
  },
  {
   "cell_type": "code",
   "execution_count": null,
   "id": "299adb0b",
   "metadata": {},
   "outputs": [],
   "source": [
    "tr_df = pd.DataFrame({\n",
    "                         'file name':      [str(i) + '.npy' for i in range(len(X_train))],\n",
    "                         'stressor lable': [Y_train_s[i] for i in range(len(Y_train_s))],\n",
    "                         'type lable':     [Y_train_t[i] for i in range(len(Y_train_t))]\n",
    "                         })\n",
    "\n",
    "ts_df = pd.DataFrame({\n",
    "                         'file name':      [str(i) + '.npy' for i in range(len(X_test))],\n",
    "                         'stressor lable': [Y_test_s[i] for i in range(len(Y_test_s))],\n",
    "                         'type lable':     [Y_test_t[i] for i in range(len(Y_test_t))]\n",
    "                         })\n",
    "\n",
    "vl_df = pd.DataFrame({\n",
    "                         'file name':      [str(i) + '.npy' for i in range(len(X_val))],\n",
    "                         'stressor lable': [Y_val_s[i] for i in range(len(Y_val_s))],\n",
    "                         'type lable':     [Y_val_t[i] for i in range(len(Y_val_t))]\n",
    "                         })\n",
    "\n",
    "#'stressor lable': [[int(Y_train[i,0]), int(Y_train[i,1])] for i in range(len(Y_train))]})"
   ]
  },
  {
   "cell_type": "code",
   "execution_count": null,
   "id": "5f934fde",
   "metadata": {},
   "outputs": [],
   "source": [
    "os.mkdir('I:/poorya/datasets/video dataset/' + network_name + '/train')\n",
    "os.mkdir('I:/poorya/datasets/video dataset/' + network_name + '/test')\n",
    "os.mkdir('I:/poorya/datasets/video dataset/' + network_name + '/val')"
   ]
  },
  {
   "cell_type": "code",
   "execution_count": null,
   "id": "faa54b5f",
   "metadata": {},
   "outputs": [],
   "source": [
    "tr_df.to_csv('I:/poorya/datasets/video dataset/' + network_name + '/train/tr_df.csv')\n",
    "ts_df.to_csv('I:/poorya/datasets/video dataset/' + network_name + '/test/ts_df.csv')\n",
    "vl_df.to_csv('I:/poorya/datasets/video dataset/' + network_name + '/val/vl_df.csv')"
   ]
  },
  {
   "cell_type": "code",
   "execution_count": null,
   "id": "35958233",
   "metadata": {},
   "outputs": [],
   "source": [
    "def sv(myx, adrs):\n",
    "    for i in range(len(myx)):\n",
    "        np.save('I:/poorya/datasets/video dataset/' + network_name + '/' + adrs + str(i) + '.npy', myx[i, :, :])\n",
    "\n",
    "\n",
    "sv(X_train, 'train/')\n",
    "sv(X_test, 'test/')\n",
    "sv(X_val, 'val/')"
   ]
  },
  {
   "cell_type": "code",
   "execution_count": null,
   "id": "968087f5",
   "metadata": {},
   "outputs": [],
   "source": []
  }
 ],
 "metadata": {
  "kernelspec": {
   "display_name": "Python [conda env:poorya] *",
   "language": "python",
   "name": "conda-env-poorya-py"
  },
  "language_info": {
   "codemirror_mode": {
    "name": "ipython",
    "version": 3
   },
   "file_extension": ".py",
   "mimetype": "text/x-python",
   "name": "python",
   "nbconvert_exporter": "python",
   "pygments_lexer": "ipython3",
   "version": "3.7.11"
  }
 },
 "nbformat": 4,
 "nbformat_minor": 5
}
